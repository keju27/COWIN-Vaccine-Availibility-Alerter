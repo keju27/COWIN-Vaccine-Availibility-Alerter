{
 "cells": [
  {
   "cell_type": "code",
   "execution_count": null,
   "metadata": {
    "scrolled": true
   },
   "outputs": [],
   "source": [
    "## for first time users\n",
    "## uncomment as needed and run\n",
    "# pip install cowin\n",
    "#pip install cowin "
   ]
  },
  {
   "cell_type": "code",
   "execution_count": null,
   "metadata": {},
   "outputs": [],
   "source": [
    "class Constants:\n",
    "    base_url = \"https://cdn-api.co-vin.in/api/v2\"\n",
    "\n",
    "    states_list_url = f\"{base_url}/admin/location/states\"\n",
    "    districts_list_url = f\"{base_url}/admin/location/districts\"\n",
    "\n",
    "    availability_by_pin_code_url = f\"{base_url}/appointment/sessions/calendarByPin\"\n",
    "    availability_by_district_url = f\"{base_url}/appointment/sessions/public/calendarByDistrict\"\n",
    "\n",
    "    DD_MM_YYYY = \"%d-%m-%y\""
   ]
  },
  {
   "cell_type": "code",
   "execution_count": null,
   "metadata": {},
   "outputs": [],
   "source": [
    "from cowin_api import CoWinAPI"
   ]
  },
  {
   "cell_type": "code",
   "execution_count": null,
   "metadata": {},
   "outputs": [],
   "source": [
    "cowin = CoWinAPI()"
   ]
  },
  {
   "cell_type": "code",
   "execution_count": null,
   "metadata": {},
   "outputs": [],
   "source": [
    "states = cowin.get_states()\n",
    "states"
   ]
  },
  {
   "cell_type": "code",
   "execution_count": null,
   "metadata": {},
   "outputs": [],
   "source": [
    "state_id = '16'\n",
    "districts = cowin.get_districts(state_id)\n",
    "districts"
   ]
  },
  {
   "cell_type": "code",
   "execution_count": null,
   "metadata": {},
   "outputs": [],
   "source": [
    "center_columns = ['pincode', 'name', 'state_name', 'district_name', 'block_name',  'from', 'to', 'fee_type']"
   ]
  },
  {
   "cell_type": "code",
   "execution_count": null,
   "metadata": {},
   "outputs": [],
   "source": [
    "import winsound\n",
    "frequency = 600  # Set Frequency To 2500 Hertz\n",
    "duration = 500  # Set Duration To 1000 ms == 1 second"
   ]
  },
  {
   "cell_type": "code",
   "execution_count": null,
   "metadata": {},
   "outputs": [],
   "source": [
    "from time import sleep"
   ]
  },
  {
   "cell_type": "code",
   "execution_count": null,
   "metadata": {},
   "outputs": [],
   "source": [
    "from datetime import datetime,timedelta\n",
    "numdays = 7\n",
    "base = datetime.today()"
   ]
  },
  {
   "cell_type": "code",
   "execution_count": null,
   "metadata": {},
   "outputs": [],
   "source": [
    "date_list = [base + timedelta(days=x) for x in range(numdays)]\n",
    "date_list = [x.strftime('%d-%m-%Y') for x in date_list]"
   ]
  },
  {
   "cell_type": "code",
   "execution_count": null,
   "metadata": {},
   "outputs": [],
   "source": [
    "min_age_limit = 18"
   ]
  },
  {
   "cell_type": "code",
   "execution_count": null,
   "metadata": {},
   "outputs": [],
   "source": [
    "#text to speech\n",
    "\n",
    "#install if req\n",
    "#pip install pyttsx3\n",
    "import pyttsx3\n",
    "engine = pyttsx3.init()\n",
    "engine.say(\"centre found\")\n",
    "engine.runAndWait()"
   ]
  },
  {
   "cell_type": "code",
   "execution_count": null,
   "metadata": {
    "scrolled": true
   },
   "outputs": [],
   "source": [
    "center_found = False\n",
    "round_num = 0\n",
    "while center_found==False:\n",
    "    round_num+=1\n",
    "    for district_id in ['294','265']:\n",
    "        for date in date_list:\n",
    "            available_centers = cowin.get_availability_by_district(district_id, date, min_age_limit)\n",
    "            for i in available_centers['centers']:\n",
    "                for j in i['sessions']:\n",
    "                    if (j['available_capacity']>0):\n",
    "                        print(date,j['available_capacity'])\n",
    "                        for k in center_columns:\n",
    "                            print(k,i[k])   \n",
    "                        print('\\n\\n')\n",
    "                        #winsound.Beep(frequency,duration)\n",
    "                        #center_found = True\n",
    "                        for i in range(3):\n",
    "                            engine.say(\"centre found\")\n",
    "                            engine.runAndWait()\n",
    "                        \n",
    "    print(round_num)\n",
    "    sleep(30)"
   ]
  },
  {
   "cell_type": "code",
   "execution_count": null,
   "metadata": {
    "scrolled": false
   },
   "outputs": [],
   "source": [
    "district_id = '294'\n",
    "date = '06-05-2021'  # Optional. Takes today's date by default\n",
    "min_age_limit = 18  # Optional. By default returns centers without filtering by min_age_limit\n",
    "available_centers = cowin.get_availability_by_district(district_id, date, min_age_limit)\n",
    "for i in available_centers['centers']:\n",
    "    for j in i['sessions']:\n",
    "        if (j['available_capacity']>0):\n",
    "            for k in center_columns:\n",
    "                print(k,i[k])\n",
    "            print('\\n\\n')"
   ]
  },
  {
   "cell_type": "code",
   "execution_count": null,
   "metadata": {
    "scrolled": false
   },
   "outputs": [],
   "source": [
    "district_id = '265'\n",
    "date = '06-05-2021'  # Optional. Takes today's date by default\n",
    "min_age_limit = 18  # Optional. By default returns centers without filtering by min_age_limit\n",
    "available_centers = cowin.get_availability_by_district(district_id, date, min_age_limit)\n",
    "for i in available_centers['centers']:\n",
    "    for j in i['sessions']:\n",
    "        if (j['available_capacity']>0):\n",
    "            for k in center_columns:\n",
    "                print(k,i[k])\n",
    "            print('\\n\\n')\n",
    "            winsound.Beep(frequency, duration)"
   ]
  },
  {
   "cell_type": "code",
   "execution_count": null,
   "metadata": {},
   "outputs": [],
   "source": [
    "pin_code = \"560095\"\n",
    "date = '04-05-2021'  # Optional. Default value is today's date\n",
    "min_age_limit = 18  # Optional. By default returns centers without filtering by min_age_limit \n",
    "available_centers = cowin.get_availability_by_pincode(pin_code, date, min_age_limit)\n",
    "print(available_centers)"
   ]
  }
 ],
 "metadata": {
  "kernelspec": {
   "display_name": "Python 3",
   "language": "python",
   "name": "python3"
  },
  "language_info": {
   "codemirror_mode": {
    "name": "ipython",
    "version": 3
   },
   "file_extension": ".py",
   "mimetype": "text/x-python",
   "name": "python",
   "nbconvert_exporter": "python",
   "pygments_lexer": "ipython3",
   "version": "3.8.5"
  }
 },
 "nbformat": 4,
 "nbformat_minor": 2
}
